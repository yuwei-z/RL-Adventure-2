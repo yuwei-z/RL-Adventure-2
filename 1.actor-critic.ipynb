{
  "cells": [
    {
      "cell_type": "code",
      "execution_count": 75,
      "metadata": {
        "id": "4itjAVhabvuO"
      },
      "outputs": [],
      "source": [
        "import math\n",
        "import random\n",
        "\n",
        "import gym\n",
        "import numpy as np\n",
        "\n",
        "import torch\n",
        "import torch.nn as nn\n",
        "import torch.optim as optim\n",
        "import torch.nn.functional as F\n",
        "from torch.distributions import Categorical\n",
        "\n",
        "# 要上传 multiprocessing_env.py 文件"
      ]
    },
    {
      "cell_type": "code",
      "execution_count": 76,
      "metadata": {
        "id": "ZJzwko0BbvuR"
      },
      "outputs": [],
      "source": [
        "from IPython.display import clear_output\n",
        "import matplotlib.pyplot as plt\n",
        "%matplotlib inline"
      ]
    },
    {
      "cell_type": "markdown",
      "metadata": {
        "id": "7QcxYgjdbvuR"
      },
      "source": [
        "<h2>Use CUDA</h2>"
      ]
    },
    {
      "cell_type": "code",
      "execution_count": 77,
      "metadata": {
        "id": "IQQQxYNgbvuS"
      },
      "outputs": [],
      "source": [
        "use_cuda = torch.cuda.is_available()\n",
        "device = torch.device(\"cuda\" if use_cuda else \"cpu\")"
      ]
    },
    {
      "cell_type": "markdown",
      "metadata": {
        "id": "Ld67oH6obvuT"
      },
      "source": [
        "<h2>Create Environments</h2>"
      ]
    },
    {
      "cell_type": "code",
      "execution_count": 78,
      "metadata": {
        "id": "vZu-6L4TbvuT"
      },
      "outputs": [],
      "source": [
        "from multiprocessing_env import SubprocVecEnv\n",
        "# stack 多个独立的环境到 单个环境 --> 训练的每个step不再是在1个env上训练agent，而是堆叠的n个环境上训练\n",
        "# 用vectorized环境，在每个episode后面会自动reset，因此下一个episode开始的observation是上一个episode done时候返回的，而不是结束时候的\n",
        "# https://stable-baselines.readthedocs.io/en/master/guide/vec_envs.html#subprocvecenv\n",
        "\n",
        "num_envs = 16\n",
        "env_name = \"CartPole-v0\"\n",
        "\n",
        "def make_env():\n",
        "    def _thunk():\n",
        "        env = gym.make(env_name)    # 每个环境都是一样的名字初始化\n",
        "        return env\n",
        "\n",
        "    return _thunk\n",
        "\n",
        "envs = [make_env() for i in range(num_envs)]    # 多个环境的创建程序的list\n",
        "# stable_baselines.common.vec_env.SubprocVecEnv(env_fns, start_method=None) input is env functions without execution\n",
        "envs = SubprocVecEnv(envs)  # create multiprocess vectorized wrapper for multiple env, distributed each env into its own process\n",
        "# https://stable-baselines.readthedocs.io/en/master/guide/vec_envs.html#subprocvecenv  stable_baselines.common.vec_env.SubprocVecEnv\n",
        "# envs <multiprocessing_env.SubprocVecEnv at 0x7f1fbfe2a650>\n",
        "\n",
        "env = gym.make(env_name)        # single used for test_env"
      ]
    },
    {
      "cell_type": "code",
      "source": [
        "envs"
      ],
      "metadata": {
        "colab": {
          "base_uri": "https://localhost:8080/"
        },
        "id": "S-KGWoqlNklg",
        "outputId": "418d8436-e85e-4f9e-830d-18e9ebd871fe"
      },
      "execution_count": 79,
      "outputs": [
        {
          "output_type": "execute_result",
          "data": {
            "text/plain": [
              "<multiprocessing_env.SubprocVecEnv at 0x7f1fbf7f9250>"
            ]
          },
          "metadata": {},
          "execution_count": 79
        }
      ]
    },
    {
      "cell_type": "code",
      "source": [
        "env"
      ],
      "metadata": {
        "colab": {
          "base_uri": "https://localhost:8080/"
        },
        "id": "7tGmZpdpOKcW",
        "outputId": "d8a50fdf-aea1-48c1-bc17-dfe74019177c"
      },
      "execution_count": 80,
      "outputs": [
        {
          "output_type": "execute_result",
          "data": {
            "text/plain": [
              "<TimeLimit<CartPoleEnv<CartPole-v0>>>"
            ]
          },
          "metadata": {},
          "execution_count": 80
        }
      ]
    },
    {
      "cell_type": "markdown",
      "metadata": {
        "id": "fsnabzalbvuT"
      },
      "source": [
        "<h2>Neural Network</h2>"
      ]
    },
    {
      "cell_type": "code",
      "execution_count": 81,
      "metadata": {
        "id": "G52Z1hbxbvuU"
      },
      "outputs": [],
      "source": [
        "class ActorCritic(nn.Module):\n",
        "    def __init__(self, num_inputs, num_outputs, hidden_size, std=0.0):  # ? std  https://spinningup.openai.com/en/latest/algorithms/sac.html\n",
        "        super(ActorCritic, self).__init__()\n",
        "        \n",
        "        self.critic = nn.Sequential(\n",
        "            nn.Linear(num_inputs, hidden_size),\n",
        "            nn.ReLU(),\n",
        "            nn.Linear(hidden_size, 1)\n",
        "        )\n",
        "        \n",
        "        self.actor = nn.Sequential(\n",
        "            nn.Linear(num_inputs, hidden_size),\n",
        "            nn.ReLU(),\n",
        "            nn.Linear(hidden_size, num_outputs),\n",
        "            nn.Softmax(dim=1),      # 在dimension1，即axis1，每个agent的2个动作上做softmax\n",
        "        )\n",
        "        \n",
        "    def forward(self, x):\n",
        "        value = self.critic(x)\n",
        "        probs = self.actor(x)   # torch.Size([16, 2]),16个agent分别在0，1动作上的概率，如 [0.5090, 0.4910]\n",
        "        dist  = Categorical(probs)      # 根据概率抽样的采样器  https://www.jianshu.com/p/c73948239c42\n",
        "        return dist, value"
      ]
    },
    {
      "cell_type": "code",
      "execution_count": 82,
      "metadata": {
        "id": "6PfHDurDbvuV"
      },
      "outputs": [],
      "source": [
        "def plot(frame_idx, rewards):\n",
        "    clear_output(True)      # plot会每次清空，然后只画出当前测试的rewards曲线\n",
        "    plt.figure(figsize=(20,5))\n",
        "    plt.subplot(131)\n",
        "    plt.title('frame %s. reward: %s' % (frame_idx, rewards[-1]))\n",
        "    plt.plot(rewards)\n",
        "    plt.show()\n",
        "    \n",
        "def test_env(vis=False):        # 测试环境 --> 用当前的model指导1个新的agent在全新的测试环境从头走到结束，打印出总的rewards\n",
        "    '''\n",
        "    vis: boolean, show visualization or not\n",
        "    '''\n",
        "    state = env.reset()\n",
        "    if vis: env.render()\n",
        "    done = False\n",
        "    total_reward = 0\n",
        "    while not done:     # 只要没结束就从头一直走到结束，打印 R\n",
        "        state = torch.FloatTensor(state).unsqueeze(0).to(device)    # 这里只传入1个state，但unsqueeze到 [1, 4]\n",
        "        dist, _ = model(state)      # 只是为了获得行动\n",
        "        next_state, reward, done, _ = env.step(dist.sample().cpu().numpy()[0])\n",
        "        state = next_state\n",
        "        if vis: env.render()\n",
        "        total_reward += reward\n",
        "    return total_reward"
      ]
    },
    {
      "cell_type": "markdown",
      "metadata": {
        "id": "i3mCMbNEbvuV"
      },
      "source": [
        "<h1>A2C: Synchronous Advantage Actor Critic</h1>\n",
        "<h3><a href=\"https://blog.openai.com/baselines-acktr-a2c/#a2canda3c\">OpenAI Blog:</a></h3>\n",
        "<p>The Asynchronous Advantage Actor Critic method (A3C) has been very influential since the paper was published. The algorithm combines a few key ideas:</p>\n",
        "\n",
        "<ul>\n",
        "    <li>An updating scheme that operates on fixed-length segments of experience (say, 20 timesteps) and uses these segments to compute estimators of the returns and advantage function.</li>\n",
        "    <li>Architectures that share layers between the policy and value function.</li>\n",
        "    <li>Asynchronous updates.</li>\n",
        "</ul>\n",
        "\n",
        "<p>After reading the paper, AI researchers wondered whether the asynchrony led to improved performance (e.g. “perhaps the added noise would provide some regularization or exploration?“), or if it was just an implementation detail that allowed for faster training with a CPU-based implementation.</p>\n",
        "\n",
        "<p>As an alternative to the asynchronous implementation, researchers found you can write a synchronous, deterministic implementation that waits for each actor to finish its segment of experience before performing an update, averaging over all of the actors. One advantage of this method is that it can more effectively use of GPUs, which perform best with large batch sizes. This algorithm is naturally called A2C, short for advantage actor critic. (This term has been used in several papers.)</p>"
      ]
    },
    {
      "cell_type": "code",
      "execution_count": 83,
      "metadata": {
        "id": "G8O8PhkebvuW"
      },
      "outputs": [],
      "source": [
        "def compute_returns(next_value, rewards, masks, gamma=0.99):\n",
        "    '''\n",
        "    作为true labels\n",
        "    use bellman equation(TD) to estimate the real R for each step\n",
        "    gamma: discount factor\n",
        "    '''\n",
        "    R = next_value  # 最后一个时刻的value就是模型估计的value\n",
        "    returns = []\n",
        "    for step in reversed(range(len(rewards))):\n",
        "        R = rewards[step] + gamma * R * masks[step]\n",
        "        returns.insert(0, R)\n",
        "    return returns"
      ]
    },
    {
      "cell_type": "code",
      "execution_count": 84,
      "metadata": {
        "id": "0IZoDHYmbvuW"
      },
      "outputs": [],
      "source": [
        "num_inputs  = envs.observation_space.shape[0]   # envs.observation_space.shape (4,) 取出4\n",
        "# 每个env的state对应4的长度\n",
        "num_outputs = envs.action_space.n       # 2\n",
        "\n",
        "#Hyper params:\n",
        "hidden_size = 256\n",
        "lr          = 3e-4\n",
        "num_steps   = 5\n",
        "\n",
        "model = ActorCritic(num_inputs, num_outputs, hidden_size).to(device)\n",
        "optimizer = optim.Adam(model.parameters())"
      ]
    },
    {
      "cell_type": "code",
      "execution_count": 86,
      "metadata": {
        "id": "DOfvttTgbvuX"
      },
      "outputs": [],
      "source": [
        "max_frames   = 20000        # max frame是所有episode的总的steps数\n",
        "frame_idx    = 0\n",
        "test_rewards = []"
      ]
    },
    {
      "cell_type": "code",
      "execution_count": 89,
      "metadata": {
        "id": "0-lQTBT1bvuX",
        "colab": {
          "base_uri": "https://localhost:8080/",
          "height": 336
        },
        "outputId": "2bf05eaf-783e-4e6f-d3c8-7e155dcde2d8"
      },
      "outputs": [
        {
          "output_type": "display_data",
          "data": {
            "image/png": "[encoded data removed]",
            "text/plain": [
              "<Figure size 1440x360 with 1 Axes>"
            ]
          },
          "metadata": {
            "needs_background": "light"
          }
        }
      ],
      "source": [
        "state = envs.reset()    # (16,4) multiple states from envs\n",
        "\n",
        "while frame_idx < max_frames:\n",
        "\n",
        "    log_probs = []\n",
        "    values    = []\n",
        "    rewards   = []\n",
        "    masks     = []\n",
        "    entropy = 0\n",
        "\n",
        "    # sampling num_steps samples\n",
        "    for _ in range(num_steps):\n",
        "        state = torch.FloatTensor(state).to(device)\n",
        "        dist, value = model(state)  # 实际传入的state相当于独立的16个x\n",
        "        # dist: action distribution from actor\n",
        "        # value: predicted value from Critic, [16, 1]\n",
        "\n",
        "        action = dist.sample()  # sample according to distribution from Actor\n",
        "        # tensor([1, 0, 0, 1, 0, 1, 1, 0, 1, 1, 1, 1, 1, 1, 1, 1])  每个维度对应1个env\n",
        "        next_state, reward, done, _ = envs.step(action.cpu().numpy())   # one actual move in envs, to get actual reward and next_state\n",
        "        # next_state (16, 4), reward 16 intermediate reward, done 16 \n",
        "        log_prob = dist.log_prob(action)    # 16给了action，每个agent只留action的；原本dist.log_prob 是 (16,2) 即传给dist的probs对应取log\n",
        "        # dist.log_prob() 是 logarithm of the density or probability -> log likelihood  https://stackoverflow.com/a/63308446/15994835\n",
        "        entropy += dist.entropy().mean()    # dist.entropy() 16\n",
        "\n",
        "        log_probs.append(log_prob)\n",
        "        values.append(value)    # 加上 模型用来预测 这一步16个agent各自的value\n",
        "        rewards.append(torch.FloatTensor(reward).unsqueeze(1).to(device))   # 先转float，再 unsqueeze(1)，即在第1维加维，即16 -> [16, 1]\n",
        "        masks.append(torch.FloatTensor(1 - done).unsqueeze(1).to(device))   # mask掉完成的，未完成是1，完成在mask中是0\n",
        "        \n",
        "        state = next_state\n",
        "        frame_idx += 1\n",
        "        \n",
        "        if frame_idx % 1000 == 0:\n",
        "            test_rewards.append(np.mean([test_env() for _ in range(10)]))\n",
        "            plot(frame_idx, test_rewards)   # 每1000步打印一次idx和对应模型获得的rewards曲线\n",
        "    \n",
        "    # 还要用模型多计算一次下一步的 expected V, 作为 Vt+1\n",
        "    next_state = torch.FloatTensor(next_state).to(device)\n",
        "    _, next_value = model(next_state)       # 这里只用到了预测的value，没有用action或采取action\n",
        "    returns = compute_returns(next_value, rewards, masks)   # 只是为了计算cumulative value作为target\n",
        "    # ？粘合起来是5个steps， 16个envs的每个steps，共80个， 作为1个mini-batch\n",
        "    log_probs = torch.cat(log_probs)        # 80, 5*[16] -> [80]，带计算图\n",
        "    returns   = torch.cat(returns).detach() # 80 * [1] -> [80,1]\n",
        "    values    = torch.cat(values)           # value带计算图\n",
        "\n",
        "    advantage = returns - values            # advantage 带计算图\n",
        "    # return: true label, values: predictions,  advantages of corresponding action\n",
        "    # loss中Actor和Critic 两部分的loss都依赖于 advantage\n",
        "    actor_loss  = -(log_probs * advantage.detach()).mean()  # ? 为什么只detach一个 negative log likelihood weighted by advantages\n",
        "    critic_loss = advantage.pow(2).mean()       # pow(2).mean() 是 mean square error带计算图\n",
        "    # jointly 同时训练2个neural network\n",
        "    loss = actor_loss + 0.5 * critic_loss - 0.001 * entropy     # ？why entropy， loss也带计算图\n",
        "\n",
        "    optimizer.zero_grad()\n",
        "    loss.backward()\n",
        "    optimizer.step()"
      ]
    },
    {
      "cell_type": "code",
      "source": [
        ""
      ],
      "metadata": {
        "id": "gFAMZdUTGjS4"
      },
      "execution_count": null,
      "outputs": []
    }
  ],
  "metadata": {
    "kernelspec": {
      "display_name": "Python [conda env:pytorch4]",
      "language": "python",
      "name": "conda-env-pytorch4-py"
    },
    "language_info": {
      "codemirror_mode": {
        "name": "ipython",
        "version": 3
      },
      "file_extension": ".py",
      "mimetype": "text/x-python",
      "name": "python",
      "nbconvert_exporter": "python",
      "pygments_lexer": "ipython3",
      "version": "3.5.5"
    },
    "colab": {
      "name": "1.actor-critic.ipynb",
      "provenance": [],
      "collapsed_sections": []
    }
  },
  "nbformat": 4,
  "nbformat_minor": 0
}